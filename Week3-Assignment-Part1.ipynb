{
    "cells": [
        {
            "cell_type": "markdown",
            "metadata": {
                "collapsed": true
            },
            "source": " # Web scraping \n "
        },
        {
            "cell_type": "code",
            "execution_count": 1,
            "metadata": {},
            "outputs": [],
            "source": "import bs4\nimport requests\nfrom bs4 import BeautifulSoup as bs # use Beautiful Soup to scrap the webpage\nimport re\nimport pandas as pd"
        },
        {
            "cell_type": "markdown",
            "metadata": {},
            "source": "### Use Beautiful Soup to extract the web page content & table"
        },
        {
            "cell_type": "code",
            "execution_count": 2,
            "metadata": {},
            "outputs": [],
            "source": "r=requests.get(\"https://en.wikipedia.org/wiki/List_of_postal_codes_of_Canada:_M\")\nwebpage = bs(r.content)\ntable1 = webpage.select(\"table.wikitable.sortable\")[0] # Select the table from the website"
        },
        {
            "cell_type": "markdown",
            "metadata": {},
            "source": "### Extract the table column headers"
        },
        {
            "cell_type": "code",
            "execution_count": 3,
            "metadata": {},
            "outputs": [
                {
                    "data": {
                        "text/plain": "['Postal Code', 'Borough', 'Neighbourhood']"
                    },
                    "execution_count": 3,
                    "metadata": {},
                    "output_type": "execute_result"
                }
            ],
            "source": "columns = table1.find(\"tbody\").find_all(\"th\")\ncolumn_names = [str(c.text).strip() for c in columns] # Get the column headers for the table\ncolumn_names"
        },
        {
            "cell_type": "markdown",
            "metadata": {},
            "source": "### Retrieve the rows"
        },
        {
            "cell_type": "code",
            "execution_count": 4,
            "metadata": {},
            "outputs": [],
            "source": "table_rows = table1.find(\"tbody\").find_all(\"tr\")\n#Add rows to the list one by one by striping the \\n\nl=[]\nfor tr in table_rows:\n    td = tr.find_all(\"td\")\n    row = [str(tr.text).strip() for tr in td]\n    l.append(row)"
        },
        {
            "cell_type": "markdown",
            "metadata": {},
            "source": "### Make a DF - removing  Borough= Not Assigned "
        },
        {
            "cell_type": "code",
            "execution_count": 5,
            "metadata": {},
            "outputs": [],
            "source": "df = pd.DataFrame(l, columns = column_names)\ndf.drop(0,inplace=True) #remove first column which is an empty row\ndf = df[df['Borough']!='Not assigned'] #remove rows with 'not assigned' boroughs"
        },
        {
            "cell_type": "markdown",
            "metadata": {},
            "source": "### Check to see if any neighbirhoods = Not Assigned"
        },
        {
            "cell_type": "markdown",
            "metadata": {},
            "source": "all(df['Neighbourhood']=='Not assigned') #check to see if there are any neighborhoods that aren't assigned"
        },
        {
            "cell_type": "code",
            "execution_count": 6,
            "metadata": {},
            "outputs": [
                {
                    "data": {
                        "text/plain": "(103, 3)"
                    },
                    "execution_count": 6,
                    "metadata": {},
                    "output_type": "execute_result"
                }
            ],
            "source": "df.shape"
        },
        {
            "cell_type": "markdown",
            "metadata": {},
            "source": "### Toronto neighborhood table from the webpage "
        },
        {
            "cell_type": "code",
            "execution_count": 7,
            "metadata": {},
            "outputs": [
                {
                    "data": {
                        "text/html": "<div>\n<style scoped>\n    .dataframe tbody tr th:only-of-type {\n        vertical-align: middle;\n    }\n\n    .dataframe tbody tr th {\n        vertical-align: top;\n    }\n\n    .dataframe thead th {\n        text-align: right;\n    }\n</style>\n<table border=\"1\" class=\"dataframe\">\n  <thead>\n    <tr style=\"text-align: right;\">\n      <th></th>\n      <th>Postal Code</th>\n      <th>Borough</th>\n      <th>Neighbourhood</th>\n    </tr>\n  </thead>\n  <tbody>\n    <tr>\n      <th>3</th>\n      <td>M3A</td>\n      <td>North York</td>\n      <td>Parkwoods</td>\n    </tr>\n    <tr>\n      <th>4</th>\n      <td>M4A</td>\n      <td>North York</td>\n      <td>Victoria Village</td>\n    </tr>\n    <tr>\n      <th>5</th>\n      <td>M5A</td>\n      <td>Downtown Toronto</td>\n      <td>Regent Park, Harbourfront</td>\n    </tr>\n    <tr>\n      <th>6</th>\n      <td>M6A</td>\n      <td>North York</td>\n      <td>Lawrence Manor, Lawrence Heights</td>\n    </tr>\n    <tr>\n      <th>7</th>\n      <td>M7A</td>\n      <td>Downtown Toronto</td>\n      <td>Queen's Park, Ontario Provincial Government</td>\n    </tr>\n    <tr>\n      <th>9</th>\n      <td>M9A</td>\n      <td>Etobicoke</td>\n      <td>Islington Avenue, Humber Valley Village</td>\n    </tr>\n    <tr>\n      <th>10</th>\n      <td>M1B</td>\n      <td>Scarborough</td>\n      <td>Malvern, Rouge</td>\n    </tr>\n    <tr>\n      <th>12</th>\n      <td>M3B</td>\n      <td>North York</td>\n      <td>Don Mills</td>\n    </tr>\n    <tr>\n      <th>13</th>\n      <td>M4B</td>\n      <td>East York</td>\n      <td>Parkview Hill, Woodbine Gardens</td>\n    </tr>\n    <tr>\n      <th>14</th>\n      <td>M5B</td>\n      <td>Downtown Toronto</td>\n      <td>Garden District, Ryerson</td>\n    </tr>\n  </tbody>\n</table>\n</div>",
                        "text/plain": "   Postal Code           Borough                                Neighbourhood\n3          M3A        North York                                    Parkwoods\n4          M4A        North York                             Victoria Village\n5          M5A  Downtown Toronto                    Regent Park, Harbourfront\n6          M6A        North York             Lawrence Manor, Lawrence Heights\n7          M7A  Downtown Toronto  Queen's Park, Ontario Provincial Government\n9          M9A         Etobicoke      Islington Avenue, Humber Valley Village\n10         M1B       Scarborough                               Malvern, Rouge\n12         M3B        North York                                    Don Mills\n13         M4B         East York              Parkview Hill, Woodbine Gardens\n14         M5B  Downtown Toronto                     Garden District, Ryerson"
                    },
                    "execution_count": 7,
                    "metadata": {},
                    "output_type": "execute_result"
                }
            ],
            "source": "df.head(10) "
        }
    ],
    "metadata": {
        "kernelspec": {
            "display_name": "Python 3.7",
            "language": "python",
            "name": "python3"
        },
        "language_info": {
            "codemirror_mode": {
                "name": "ipython",
                "version": 3
            },
            "file_extension": ".py",
            "mimetype": "text/x-python",
            "name": "python",
            "nbconvert_exporter": "python",
            "pygments_lexer": "ipython3",
            "version": "3.7.9"
        }
    },
    "nbformat": 4,
    "nbformat_minor": 1
}